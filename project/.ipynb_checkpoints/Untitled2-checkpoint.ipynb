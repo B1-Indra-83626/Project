{
 "cells": [
  {
   "cell_type": "code",
   "execution_count": 1,
   "id": "8706de16-ac91-4bab-93c2-28bf44dff54a",
   "metadata": {},
   "outputs": [],
   "source": [
    "import numpy as np \n",
    "import pandas as pd"
   ]
  },
  {
   "cell_type": "code",
   "execution_count": 2,
   "id": "6930d3fc-8d36-4b9a-b9b8-3d1054102646",
   "metadata": {},
   "outputs": [
    {
     "name": "stdout",
     "output_type": "stream",
     "text": [
      "0       John Berger’s Classic Text on Art\\n\\nWays of S...\n",
      "1       Renowned not only as the best concise introduc...\n",
      "2       You don’t need to be a genius, you just need t...\n",
      "3       When Drawing on the Right Side of the Brain wa...\n",
      "4       The Artist’s Way is the seminal book on the su...\n",
      "                              ...                        \n",
      "4875    For fans of Madeline Miller's Circe, a stunnin...\n",
      "4876    Euripides' classic drama about the often morti...\n",
      "4877    In The Persian Expedition, Xenophon, a young A...\n",
      "4878    The House of Atreus is cursed. A bloodline tai...\n",
      "4879    The Greek myths are one of the most important ...\n",
      "Name: Description, Length: 4880, dtype: object\n"
     ]
    }
   ],
   "source": [
    "import pandas as pd\n",
    "\n",
    "# Read the file with the assumed correct encoding\n",
    "try:\n",
    "    # Reading with ISO-8859-1 encoding\n",
    "    data = pd.read_csv('./Book_Details.csv', encoding='ISO-8859-1')\n",
    "except UnicodeDecodeError:\n",
    "    # Handle potential encoding errors\n",
    "    print(\"Error reading file. Check the encoding.\")\n",
    "\n",
    "# Define the function to correct encoding\n",
    "def correct_encoding(text):\n",
    "    try:\n",
    "        # Try to correct the encoding\n",
    "        return text.encode('ISO-8859-1').decode('utf-8')\n",
    "    except UnicodeDecodeError:\n",
    "        # If an error occurs, return the original text\n",
    "        return text\n",
    "\n",
    "# Apply the encoding correction to the DataFrame column\n",
    "data['Description'] = data['Description'].apply(correct_encoding)\n",
    "\n",
    "# Print or inspect the corrected data\n",
    "print(data['Description'])\n"
   ]
  },
  {
   "cell_type": "code",
   "execution_count": 3,
   "id": "35e46738-f60d-4787-aae9-bbe8d8cd0cb0",
   "metadata": {},
   "outputs": [
    {
     "data": {
      "text/html": [
       "<div>\n",
       "<style scoped>\n",
       "    .dataframe tbody tr th:only-of-type {\n",
       "        vertical-align: middle;\n",
       "    }\n",
       "\n",
       "    .dataframe tbody tr th {\n",
       "        vertical-align: top;\n",
       "    }\n",
       "\n",
       "    .dataframe thead th {\n",
       "        text-align: right;\n",
       "    }\n",
       "</style>\n",
       "<table border=\"1\" class=\"dataframe\">\n",
       "  <thead>\n",
       "    <tr style=\"text-align: right;\">\n",
       "      <th></th>\n",
       "      <th>Title</th>\n",
       "      <th>Author</th>\n",
       "      <th>Description</th>\n",
       "      <th>Image_Url</th>\n",
       "      <th>Average_Rating</th>\n",
       "      <th>Total_Rating_Count</th>\n",
       "    </tr>\n",
       "  </thead>\n",
       "  <tbody>\n",
       "    <tr>\n",
       "      <th>0</th>\n",
       "      <td>Ways of Seeing</td>\n",
       "      <td>John Berger</td>\n",
       "      <td>John Berger’s Classic Text on Art\\n\\nWays of S...</td>\n",
       "      <td>https://images-na.ssl-images-amazon.com/images...</td>\n",
       "      <td>3.92</td>\n",
       "      <td>3,78,573</td>\n",
       "    </tr>\n",
       "    <tr>\n",
       "      <th>1</th>\n",
       "      <td>The Story of Art</td>\n",
       "      <td>E.H. Gombrich</td>\n",
       "      <td>Renowned not only as the best concise introduc...</td>\n",
       "      <td>https://images-na.ssl-images-amazon.com/images...</td>\n",
       "      <td>3.96</td>\n",
       "      <td>4,17,875</td>\n",
       "    </tr>\n",
       "    <tr>\n",
       "      <th>2</th>\n",
       "      <td>Steal Like an Artist: 10 Things Nobody Told Yo...</td>\n",
       "      <td>Austin Kleon</td>\n",
       "      <td>You don’t need to be a genius, you just need t...</td>\n",
       "      <td>https://images-na.ssl-images-amazon.com/images...</td>\n",
       "      <td>3.96</td>\n",
       "      <td>2,93,826</td>\n",
       "    </tr>\n",
       "    <tr>\n",
       "      <th>3</th>\n",
       "      <td>The New Drawing on the Right Side of the Brain</td>\n",
       "      <td>Betty Edwards</td>\n",
       "      <td>When Drawing on the Right Side of the Brain wa...</td>\n",
       "      <td>https://images-na.ssl-images-amazon.com/images...</td>\n",
       "      <td>3.87</td>\n",
       "      <td>3,56,503</td>\n",
       "    </tr>\n",
       "    <tr>\n",
       "      <th>4</th>\n",
       "      <td>The Artist's Way: A Spiritual Path to Higher C...</td>\n",
       "      <td>Julia Cameron</td>\n",
       "      <td>The Artist’s Way is the seminal book on the su...</td>\n",
       "      <td>https://images-na.ssl-images-amazon.com/images...</td>\n",
       "      <td>3.95</td>\n",
       "      <td>1,12,017</td>\n",
       "    </tr>\n",
       "  </tbody>\n",
       "</table>\n",
       "</div>"
      ],
      "text/plain": [
       "                                               Title         Author  \\\n",
       "0                                     Ways of Seeing    John Berger   \n",
       "1                                   The Story of Art  E.H. Gombrich   \n",
       "2  Steal Like an Artist: 10 Things Nobody Told Yo...   Austin Kleon   \n",
       "3     The New Drawing on the Right Side of the Brain  Betty Edwards   \n",
       "4  The Artist's Way: A Spiritual Path to Higher C...  Julia Cameron   \n",
       "\n",
       "                                         Description  \\\n",
       "0  John Berger’s Classic Text on Art\\n\\nWays of S...   \n",
       "1  Renowned not only as the best concise introduc...   \n",
       "2  You don’t need to be a genius, you just need t...   \n",
       "3  When Drawing on the Right Side of the Brain wa...   \n",
       "4  The Artist’s Way is the seminal book on the su...   \n",
       "\n",
       "                                           Image_Url  Average_Rating  \\\n",
       "0  https://images-na.ssl-images-amazon.com/images...            3.92   \n",
       "1  https://images-na.ssl-images-amazon.com/images...            3.96   \n",
       "2  https://images-na.ssl-images-amazon.com/images...            3.96   \n",
       "3  https://images-na.ssl-images-amazon.com/images...            3.87   \n",
       "4  https://images-na.ssl-images-amazon.com/images...            3.95   \n",
       "\n",
       "  Total_Rating_Count  \n",
       "0           3,78,573  \n",
       "1           4,17,875  \n",
       "2           2,93,826  \n",
       "3           3,56,503  \n",
       "4           1,12,017  "
      ]
     },
     "execution_count": 3,
     "metadata": {},
     "output_type": "execute_result"
    }
   ],
   "source": [
    "data.head()"
   ]
  },
  {
   "cell_type": "code",
   "execution_count": 4,
   "id": "3fc156f2-fbd4-4004-9912-8cc286428f1e",
   "metadata": {},
   "outputs": [],
   "source": [
    "books = data[['Title','Author','Description']]"
   ]
  },
  {
   "cell_type": "code",
   "execution_count": 5,
   "id": "3217e21c-4ad5-4e24-ba67-3d93f56534d3",
   "metadata": {},
   "outputs": [
    {
     "data": {
      "text/html": [
       "<div>\n",
       "<style scoped>\n",
       "    .dataframe tbody tr th:only-of-type {\n",
       "        vertical-align: middle;\n",
       "    }\n",
       "\n",
       "    .dataframe tbody tr th {\n",
       "        vertical-align: top;\n",
       "    }\n",
       "\n",
       "    .dataframe thead th {\n",
       "        text-align: right;\n",
       "    }\n",
       "</style>\n",
       "<table border=\"1\" class=\"dataframe\">\n",
       "  <thead>\n",
       "    <tr style=\"text-align: right;\">\n",
       "      <th></th>\n",
       "      <th>Title</th>\n",
       "      <th>Author</th>\n",
       "      <th>Description</th>\n",
       "    </tr>\n",
       "  </thead>\n",
       "  <tbody>\n",
       "    <tr>\n",
       "      <th>0</th>\n",
       "      <td>Ways of Seeing</td>\n",
       "      <td>John Berger</td>\n",
       "      <td>John Berger’s Classic Text on Art\\n\\nWays of S...</td>\n",
       "    </tr>\n",
       "    <tr>\n",
       "      <th>1</th>\n",
       "      <td>The Story of Art</td>\n",
       "      <td>E.H. Gombrich</td>\n",
       "      <td>Renowned not only as the best concise introduc...</td>\n",
       "    </tr>\n",
       "    <tr>\n",
       "      <th>2</th>\n",
       "      <td>Steal Like an Artist: 10 Things Nobody Told Yo...</td>\n",
       "      <td>Austin Kleon</td>\n",
       "      <td>You don’t need to be a genius, you just need t...</td>\n",
       "    </tr>\n",
       "    <tr>\n",
       "      <th>3</th>\n",
       "      <td>The New Drawing on the Right Side of the Brain</td>\n",
       "      <td>Betty Edwards</td>\n",
       "      <td>When Drawing on the Right Side of the Brain wa...</td>\n",
       "    </tr>\n",
       "    <tr>\n",
       "      <th>4</th>\n",
       "      <td>The Artist's Way: A Spiritual Path to Higher C...</td>\n",
       "      <td>Julia Cameron</td>\n",
       "      <td>The Artist’s Way is the seminal book on the su...</td>\n",
       "    </tr>\n",
       "  </tbody>\n",
       "</table>\n",
       "</div>"
      ],
      "text/plain": [
       "                                               Title         Author  \\\n",
       "0                                     Ways of Seeing    John Berger   \n",
       "1                                   The Story of Art  E.H. Gombrich   \n",
       "2  Steal Like an Artist: 10 Things Nobody Told Yo...   Austin Kleon   \n",
       "3     The New Drawing on the Right Side of the Brain  Betty Edwards   \n",
       "4  The Artist's Way: A Spiritual Path to Higher C...  Julia Cameron   \n",
       "\n",
       "                                         Description  \n",
       "0  John Berger’s Classic Text on Art\\n\\nWays of S...  \n",
       "1  Renowned not only as the best concise introduc...  \n",
       "2  You don’t need to be a genius, you just need t...  \n",
       "3  When Drawing on the Right Side of the Brain wa...  \n",
       "4  The Artist’s Way is the seminal book on the su...  "
      ]
     },
     "execution_count": 5,
     "metadata": {},
     "output_type": "execute_result"
    }
   ],
   "source": [
    "books.head()"
   ]
  },
  {
   "cell_type": "code",
   "execution_count": 6,
   "id": "f4a8e135-38be-42c2-b839-d5b2eb00e3e4",
   "metadata": {},
   "outputs": [
    {
     "name": "stderr",
     "output_type": "stream",
     "text": [
      "C:\\Users\\HP\\AppData\\Local\\Temp\\ipykernel_10444\\120032568.py:5: SettingWithCopyWarning: \n",
      "A value is trying to be set on a copy of a slice from a DataFrame.\n",
      "Try using .loc[row_indexer,col_indexer] = value instead\n",
      "\n",
      "See the caveats in the documentation: https://pandas.pydata.org/pandas-docs/stable/user_guide/indexing.html#returning-a-view-versus-a-copy\n",
      "  books['Author'] = books['Author'].apply(remove_spaces)\n"
     ]
    }
   ],
   "source": [
    "def remove_spaces(text):\n",
    "    return text.replace(\" \", \"\")\n",
    "\n",
    "# Apply the function to the DataFrame column\n",
    "books['Author'] = books['Author'].apply(remove_spaces)\n",
    "\n"
   ]
  },
  {
   "cell_type": "code",
   "execution_count": 7,
   "id": "88b6cf29-f948-4570-8598-86b4ed262943",
   "metadata": {},
   "outputs": [
    {
     "data": {
      "text/html": [
       "<div>\n",
       "<style scoped>\n",
       "    .dataframe tbody tr th:only-of-type {\n",
       "        vertical-align: middle;\n",
       "    }\n",
       "\n",
       "    .dataframe tbody tr th {\n",
       "        vertical-align: top;\n",
       "    }\n",
       "\n",
       "    .dataframe thead th {\n",
       "        text-align: right;\n",
       "    }\n",
       "</style>\n",
       "<table border=\"1\" class=\"dataframe\">\n",
       "  <thead>\n",
       "    <tr style=\"text-align: right;\">\n",
       "      <th></th>\n",
       "      <th>Title</th>\n",
       "      <th>Author</th>\n",
       "      <th>Description</th>\n",
       "    </tr>\n",
       "  </thead>\n",
       "  <tbody>\n",
       "    <tr>\n",
       "      <th>0</th>\n",
       "      <td>Ways of Seeing</td>\n",
       "      <td>JohnBerger</td>\n",
       "      <td>John Berger’s Classic Text on Art\\n\\nWays of S...</td>\n",
       "    </tr>\n",
       "    <tr>\n",
       "      <th>1</th>\n",
       "      <td>The Story of Art</td>\n",
       "      <td>E.H.Gombrich</td>\n",
       "      <td>Renowned not only as the best concise introduc...</td>\n",
       "    </tr>\n",
       "    <tr>\n",
       "      <th>2</th>\n",
       "      <td>Steal Like an Artist: 10 Things Nobody Told Yo...</td>\n",
       "      <td>AustinKleon</td>\n",
       "      <td>You don’t need to be a genius, you just need t...</td>\n",
       "    </tr>\n",
       "    <tr>\n",
       "      <th>3</th>\n",
       "      <td>The New Drawing on the Right Side of the Brain</td>\n",
       "      <td>BettyEdwards</td>\n",
       "      <td>When Drawing on the Right Side of the Brain wa...</td>\n",
       "    </tr>\n",
       "    <tr>\n",
       "      <th>4</th>\n",
       "      <td>The Artist's Way: A Spiritual Path to Higher C...</td>\n",
       "      <td>JuliaCameron</td>\n",
       "      <td>The Artist’s Way is the seminal book on the su...</td>\n",
       "    </tr>\n",
       "  </tbody>\n",
       "</table>\n",
       "</div>"
      ],
      "text/plain": [
       "                                               Title        Author  \\\n",
       "0                                     Ways of Seeing    JohnBerger   \n",
       "1                                   The Story of Art  E.H.Gombrich   \n",
       "2  Steal Like an Artist: 10 Things Nobody Told Yo...   AustinKleon   \n",
       "3     The New Drawing on the Right Side of the Brain  BettyEdwards   \n",
       "4  The Artist's Way: A Spiritual Path to Higher C...  JuliaCameron   \n",
       "\n",
       "                                         Description  \n",
       "0  John Berger’s Classic Text on Art\\n\\nWays of S...  \n",
       "1  Renowned not only as the best concise introduc...  \n",
       "2  You don’t need to be a genius, you just need t...  \n",
       "3  When Drawing on the Right Side of the Brain wa...  \n",
       "4  The Artist’s Way is the seminal book on the su...  "
      ]
     },
     "execution_count": 7,
     "metadata": {},
     "output_type": "execute_result"
    }
   ],
   "source": [
    "books.head()"
   ]
  },
  {
   "cell_type": "code",
   "execution_count": 8,
   "id": "223f687c-bc03-494c-a30a-8fec7d8a33d5",
   "metadata": {},
   "outputs": [
    {
     "name": "stderr",
     "output_type": "stream",
     "text": [
      "C:\\Users\\HP\\AppData\\Local\\Temp\\ipykernel_10444\\3340996285.py:1: SettingWithCopyWarning: \n",
      "A value is trying to be set on a copy of a slice from a DataFrame.\n",
      "Try using .loc[row_indexer,col_indexer] = value instead\n",
      "\n",
      "See the caveats in the documentation: https://pandas.pydata.org/pandas-docs/stable/user_guide/indexing.html#returning-a-view-versus-a-copy\n",
      "  books['tags'] = books['Description'] +\" \"+ books['Author']\n"
     ]
    }
   ],
   "source": [
    "books['tags'] = books['Description'] +\" \"+ books['Author'] "
   ]
  },
  {
   "cell_type": "code",
   "execution_count": 9,
   "id": "b6946ae7-c8ea-46c8-96f8-ae5dc94d3841",
   "metadata": {},
   "outputs": [
    {
     "data": {
      "text/html": [
       "<div>\n",
       "<style scoped>\n",
       "    .dataframe tbody tr th:only-of-type {\n",
       "        vertical-align: middle;\n",
       "    }\n",
       "\n",
       "    .dataframe tbody tr th {\n",
       "        vertical-align: top;\n",
       "    }\n",
       "\n",
       "    .dataframe thead th {\n",
       "        text-align: right;\n",
       "    }\n",
       "</style>\n",
       "<table border=\"1\" class=\"dataframe\">\n",
       "  <thead>\n",
       "    <tr style=\"text-align: right;\">\n",
       "      <th></th>\n",
       "      <th>Title</th>\n",
       "      <th>Author</th>\n",
       "      <th>Description</th>\n",
       "      <th>tags</th>\n",
       "    </tr>\n",
       "  </thead>\n",
       "  <tbody>\n",
       "    <tr>\n",
       "      <th>0</th>\n",
       "      <td>Ways of Seeing</td>\n",
       "      <td>JohnBerger</td>\n",
       "      <td>John Berger’s Classic Text on Art\\n\\nWays of S...</td>\n",
       "      <td>John Berger’s Classic Text on Art\\n\\nWays of S...</td>\n",
       "    </tr>\n",
       "    <tr>\n",
       "      <th>1</th>\n",
       "      <td>The Story of Art</td>\n",
       "      <td>E.H.Gombrich</td>\n",
       "      <td>Renowned not only as the best concise introduc...</td>\n",
       "      <td>Renowned not only as the best concise introduc...</td>\n",
       "    </tr>\n",
       "    <tr>\n",
       "      <th>2</th>\n",
       "      <td>Steal Like an Artist: 10 Things Nobody Told Yo...</td>\n",
       "      <td>AustinKleon</td>\n",
       "      <td>You don’t need to be a genius, you just need t...</td>\n",
       "      <td>You don’t need to be a genius, you just need t...</td>\n",
       "    </tr>\n",
       "    <tr>\n",
       "      <th>3</th>\n",
       "      <td>The New Drawing on the Right Side of the Brain</td>\n",
       "      <td>BettyEdwards</td>\n",
       "      <td>When Drawing on the Right Side of the Brain wa...</td>\n",
       "      <td>When Drawing on the Right Side of the Brain wa...</td>\n",
       "    </tr>\n",
       "    <tr>\n",
       "      <th>4</th>\n",
       "      <td>The Artist's Way: A Spiritual Path to Higher C...</td>\n",
       "      <td>JuliaCameron</td>\n",
       "      <td>The Artist’s Way is the seminal book on the su...</td>\n",
       "      <td>The Artist’s Way is the seminal book on the su...</td>\n",
       "    </tr>\n",
       "  </tbody>\n",
       "</table>\n",
       "</div>"
      ],
      "text/plain": [
       "                                               Title        Author  \\\n",
       "0                                     Ways of Seeing    JohnBerger   \n",
       "1                                   The Story of Art  E.H.Gombrich   \n",
       "2  Steal Like an Artist: 10 Things Nobody Told Yo...   AustinKleon   \n",
       "3     The New Drawing on the Right Side of the Brain  BettyEdwards   \n",
       "4  The Artist's Way: A Spiritual Path to Higher C...  JuliaCameron   \n",
       "\n",
       "                                         Description  \\\n",
       "0  John Berger’s Classic Text on Art\\n\\nWays of S...   \n",
       "1  Renowned not only as the best concise introduc...   \n",
       "2  You don’t need to be a genius, you just need t...   \n",
       "3  When Drawing on the Right Side of the Brain wa...   \n",
       "4  The Artist’s Way is the seminal book on the su...   \n",
       "\n",
       "                                                tags  \n",
       "0  John Berger’s Classic Text on Art\\n\\nWays of S...  \n",
       "1  Renowned not only as the best concise introduc...  \n",
       "2  You don’t need to be a genius, you just need t...  \n",
       "3  When Drawing on the Right Side of the Brain wa...  \n",
       "4  The Artist’s Way is the seminal book on the su...  "
      ]
     },
     "execution_count": 9,
     "metadata": {},
     "output_type": "execute_result"
    }
   ],
   "source": [
    "books.head()"
   ]
  },
  {
   "cell_type": "code",
   "execution_count": 10,
   "id": "aa4d760d-610f-415d-8465-b72026f6ca17",
   "metadata": {},
   "outputs": [],
   "source": [
    "new = books.drop(columns=['Author','Description'])"
   ]
  },
  {
   "cell_type": "code",
   "execution_count": 11,
   "id": "deb9cbd7-4d66-4620-8237-1af2e4bff180",
   "metadata": {},
   "outputs": [
    {
     "data": {
      "text/html": [
       "<div>\n",
       "<style scoped>\n",
       "    .dataframe tbody tr th:only-of-type {\n",
       "        vertical-align: middle;\n",
       "    }\n",
       "\n",
       "    .dataframe tbody tr th {\n",
       "        vertical-align: top;\n",
       "    }\n",
       "\n",
       "    .dataframe thead th {\n",
       "        text-align: right;\n",
       "    }\n",
       "</style>\n",
       "<table border=\"1\" class=\"dataframe\">\n",
       "  <thead>\n",
       "    <tr style=\"text-align: right;\">\n",
       "      <th></th>\n",
       "      <th>Title</th>\n",
       "      <th>tags</th>\n",
       "    </tr>\n",
       "  </thead>\n",
       "  <tbody>\n",
       "    <tr>\n",
       "      <th>0</th>\n",
       "      <td>Ways of Seeing</td>\n",
       "      <td>John Berger’s Classic Text on Art\\n\\nWays of S...</td>\n",
       "    </tr>\n",
       "    <tr>\n",
       "      <th>1</th>\n",
       "      <td>The Story of Art</td>\n",
       "      <td>Renowned not only as the best concise introduc...</td>\n",
       "    </tr>\n",
       "    <tr>\n",
       "      <th>2</th>\n",
       "      <td>Steal Like an Artist: 10 Things Nobody Told Yo...</td>\n",
       "      <td>You don’t need to be a genius, you just need t...</td>\n",
       "    </tr>\n",
       "    <tr>\n",
       "      <th>3</th>\n",
       "      <td>The New Drawing on the Right Side of the Brain</td>\n",
       "      <td>When Drawing on the Right Side of the Brain wa...</td>\n",
       "    </tr>\n",
       "    <tr>\n",
       "      <th>4</th>\n",
       "      <td>The Artist's Way: A Spiritual Path to Higher C...</td>\n",
       "      <td>The Artist’s Way is the seminal book on the su...</td>\n",
       "    </tr>\n",
       "  </tbody>\n",
       "</table>\n",
       "</div>"
      ],
      "text/plain": [
       "                                               Title  \\\n",
       "0                                     Ways of Seeing   \n",
       "1                                   The Story of Art   \n",
       "2  Steal Like an Artist: 10 Things Nobody Told Yo...   \n",
       "3     The New Drawing on the Right Side of the Brain   \n",
       "4  The Artist's Way: A Spiritual Path to Higher C...   \n",
       "\n",
       "                                                tags  \n",
       "0  John Berger’s Classic Text on Art\\n\\nWays of S...  \n",
       "1  Renowned not only as the best concise introduc...  \n",
       "2  You don’t need to be a genius, you just need t...  \n",
       "3  When Drawing on the Right Side of the Brain wa...  \n",
       "4  The Artist’s Way is the seminal book on the su...  "
      ]
     },
     "execution_count": 11,
     "metadata": {},
     "output_type": "execute_result"
    }
   ],
   "source": [
    "new.head()"
   ]
  },
  {
   "cell_type": "code",
   "execution_count": 12,
   "id": "5e012ae4-5df9-4929-9244-ed4180ef0e7c",
   "metadata": {},
   "outputs": [],
   "source": [
    "from sklearn.feature_extraction.text import CountVectorizer\n",
    "cv = CountVectorizer(max_features=5000,stop_words='english')"
   ]
  },
  {
   "cell_type": "code",
   "execution_count": 13,
   "id": "92bb6b5a-9a2b-491c-9032-cb1086ae3d28",
   "metadata": {},
   "outputs": [],
   "source": [
    "vector = cv.fit_transform(new['tags']).toarray()"
   ]
  },
  {
   "cell_type": "code",
   "execution_count": 16,
   "id": "7ded2533-59cf-48e5-9cf4-a028077a0cf9",
   "metadata": {},
   "outputs": [
    {
     "data": {
      "text/plain": [
       "(4880, 5000)"
      ]
     },
     "execution_count": 16,
     "metadata": {},
     "output_type": "execute_result"
    }
   ],
   "source": [
    "vector.shape"
   ]
  },
  {
   "cell_type": "code",
   "execution_count": 17,
   "id": "c842c7a8-fe4d-4a6e-a2aa-aed48fd82d99",
   "metadata": {},
   "outputs": [],
   "source": [
    "from sklearn.metrics.pairwise import cosine_similarity"
   ]
  },
  {
   "cell_type": "code",
   "execution_count": 18,
   "id": "81d97e7f-d08e-4384-8e2d-825142ee304f",
   "metadata": {},
   "outputs": [],
   "source": [
    "similarity = cosine_similarity(vector)"
   ]
  },
  {
   "cell_type": "code",
   "execution_count": 20,
   "id": "9b2d179e-7c13-4e65-ac73-169c517182fe",
   "metadata": {},
   "outputs": [
    {
     "data": {
      "text/plain": [
       "array([1.        , 0.29731473, 0.0586883 , ..., 0.01470747, 0.        ,\n",
       "       0.01273705])"
      ]
     },
     "execution_count": 20,
     "metadata": {},
     "output_type": "execute_result"
    }
   ],
   "source": [
    "similarity[0]"
   ]
  },
  {
   "cell_type": "code",
   "execution_count": 21,
   "id": "3747b4bf-27d5-42a3-b710-93441d550002",
   "metadata": {},
   "outputs": [
    {
     "data": {
      "text/plain": [
       "0"
      ]
     },
     "execution_count": 21,
     "metadata": {},
     "output_type": "execute_result"
    }
   ],
   "source": [
    "new[new['Title'] == 'Ways of Seeing'].index[0]"
   ]
  },
  {
   "cell_type": "code",
   "execution_count": 26,
   "id": "49cbac65-4a7d-46f9-8c87-2eaef3621fcc",
   "metadata": {},
   "outputs": [],
   "source": [
    "def recommend(movie):\n",
    "    index = new[new['Title'] == movie].index[0]\n",
    "    distances = sorted(list(enumerate(similarity[index])),reverse=True,key = lambda x: x[1])\n",
    "    for i in distances[1:6]:\n",
    "        print(new.iloc[i[0]].Title)"
   ]
  },
  {
   "cell_type": "code",
   "execution_count": 28,
   "id": "225afd82-28f3-4886-babd-cb51ac300dd8",
   "metadata": {},
   "outputs": [
    {
     "name": "stdout",
     "output_type": "stream",
     "text": [
      "The God Argument: The Case against Religion and for Humanism\n",
      "Atheism: The Case Against God\n",
      "The Reason for God: Belief in an Age of Skepticism\n",
      "The Reason for God: Belief in an Age of Skepticism\n",
      "Breaking the Spell: Religion as a Natural Phenomenon\n"
     ]
    }
   ],
   "source": [
    "recommend('50 Reasons People Give for Believing in a God')"
   ]
  },
  {
   "cell_type": "code",
   "execution_count": null,
   "id": "ee65c7eb-fef7-4c73-adb3-dd494a47e277",
   "metadata": {},
   "outputs": [],
   "source": []
  }
 ],
 "metadata": {
  "kernelspec": {
   "display_name": "Python 3 (ipykernel)",
   "language": "python",
   "name": "python3"
  },
  "language_info": {
   "codemirror_mode": {
    "name": "ipython",
    "version": 3
   },
   "file_extension": ".py",
   "mimetype": "text/x-python",
   "name": "python",
   "nbconvert_exporter": "python",
   "pygments_lexer": "ipython3",
   "version": "3.11.1"
  }
 },
 "nbformat": 4,
 "nbformat_minor": 5
}
